{
 "cells": [
  {
   "cell_type": "code",
   "execution_count": 1,
   "id": "198c1ab9",
   "metadata": {},
   "outputs": [
    {
     "data": {
      "text/plain": [
       "'2.3.0'"
      ]
     },
     "execution_count": 1,
     "metadata": {},
     "output_type": "execute_result"
    }
   ],
   "source": [
    "import pandas as pd\n",
    "import numpy as np\n",
    "pd.__version__"
   ]
  },
  {
   "cell_type": "code",
   "execution_count": 7,
   "id": "ba34f831",
   "metadata": {},
   "outputs": [
    {
     "name": "stdout",
     "output_type": "stream",
     "text": [
      "   a  b     c  d\n",
      "0  1  2     3  4\n",
      "1  5  6  None  8 (2, 4)\n"
     ]
    },
    {
     "data": {
      "text/html": [
       "<div>\n",
       "<style scoped>\n",
       "    .dataframe tbody tr th:only-of-type {\n",
       "        vertical-align: middle;\n",
       "    }\n",
       "\n",
       "    .dataframe tbody tr th {\n",
       "        vertical-align: top;\n",
       "    }\n",
       "\n",
       "    .dataframe thead th {\n",
       "        text-align: right;\n",
       "    }\n",
       "</style>\n",
       "<table border=\"1\" class=\"dataframe\">\n",
       "  <thead>\n",
       "    <tr style=\"text-align: right;\">\n",
       "      <th></th>\n",
       "      <th>a</th>\n",
       "      <th>b</th>\n",
       "      <th>c</th>\n",
       "      <th>d</th>\n",
       "    </tr>\n",
       "  </thead>\n",
       "  <tbody>\n",
       "    <tr>\n",
       "      <th>0</th>\n",
       "      <td>False</td>\n",
       "      <td>False</td>\n",
       "      <td>False</td>\n",
       "      <td>False</td>\n",
       "    </tr>\n",
       "    <tr>\n",
       "      <th>1</th>\n",
       "      <td>False</td>\n",
       "      <td>False</td>\n",
       "      <td>True</td>\n",
       "      <td>False</td>\n",
       "    </tr>\n",
       "  </tbody>\n",
       "</table>\n",
       "</div>"
      ],
      "text/plain": [
       "       a      b      c      d\n",
       "0  False  False  False  False\n",
       "1  False  False   True  False"
      ]
     },
     "execution_count": 7,
     "metadata": {},
     "output_type": "execute_result"
    }
   ],
   "source": [
    "dataset = pd.DataFrame(np.array([[1,2,3,4], \n",
    "                                [5,6, None,8]]))\n",
    "\n",
    "dataset.columns = np.array([\"a\", \"b\", \"c\", \"d\"])\n",
    "print(dataset, dataset.shape)\n",
    "dataset.isna()"
   ]
  },
  {
   "cell_type": "code",
   "execution_count": 8,
   "id": "5411cb29",
   "metadata": {},
   "outputs": [
    {
     "name": "stdout",
     "output_type": "stream",
     "text": [
      "S    15\n",
      "o    20\n",
      "h    25\n",
      "a    30\n",
      "m     2\n",
      "dtype: int64 20\n",
      "\n",
      " 15    11\n",
      "20    11\n",
      "25    11\n",
      "30    11\n",
      "2     11\n",
      "dtype: int64\n"
     ]
    }
   ],
   "source": [
    "s1 = pd.Series(list(\"Soham\"))\n",
    "s2 = pd.Series([15, 20, 25, 30, 2], index=s1)\n",
    "\n",
    "print(s2, s2['o'])\n",
    "\n",
    "scalar1 = pd.Series(11, index= s2)\n",
    "print(\"\\n\", scalar1)\n",
    "\n",
    "\n",
    "s3 = pd.Series([\"o\", \"h\", 20, 2, \"S\"])"
   ]
  },
  {
   "cell_type": "code",
   "execution_count": 9,
   "id": "46f0c800",
   "metadata": {},
   "outputs": [
    {
     "name": "stdout",
     "output_type": "stream",
     "text": [
      "2      NaN\n",
      "20     NaN\n",
      "S     15.0\n",
      "a      NaN\n",
      "h     -3.0\n",
      "m      NaN\n",
      "o     15.0\n",
      "dtype: float64 \n",
      "\n",
      "S    15.0\n",
      "h    -3.0\n",
      "o    15.0\n",
      "dtype: float64\n",
      "\n",
      " 2      1.0\n",
      "20     1.0\n",
      "S     15.0\n",
      "a      1.0\n",
      "h     -3.0\n",
      "m      1.0\n",
      "o     15.0\n",
      "dtype: float64\n",
      "\n",
      "\n",
      "2      4.0\n",
      "20     3.0\n",
      "S     15.0\n",
      "a     20.0\n",
      "h     -3.0\n",
      "m      2.0\n",
      "o     15.0\n",
      "dtype: float64\n"
     ]
    }
   ],
   "source": [
    "v1 = pd.Series([1,2,3,4, 6], index = s3)\n",
    "\n",
    "v2 = pd.Series([9, 14, -5 , 20, 2], index = s1)\n",
    "\n",
    "v3 = v1 + v2\n",
    "print(v3, \"\\n\")\n",
    "print(v3.dropna())\n",
    "print(\"\\n\", v3.fillna(1))\n",
    "print(\"\\n\")\n",
    "add = v1.add(v2, fill_value = 0)\n",
    "print(add)"
   ]
  },
  {
   "cell_type": "code",
   "execution_count": 5,
   "id": "91dca2d3",
   "metadata": {},
   "outputs": [
    {
     "data": {
      "text/html": [
       "<div>\n",
       "<style scoped>\n",
       "    .dataframe tbody tr th:only-of-type {\n",
       "        vertical-align: middle;\n",
       "    }\n",
       "\n",
       "    .dataframe tbody tr th {\n",
       "        vertical-align: top;\n",
       "    }\n",
       "\n",
       "    .dataframe thead th {\n",
       "        text-align: right;\n",
       "    }\n",
       "</style>\n",
       "<table border=\"1\" class=\"dataframe\">\n",
       "  <thead>\n",
       "    <tr style=\"text-align: right;\">\n",
       "      <th></th>\n",
       "      <th>movie1</th>\n",
       "      <th>movie2</th>\n",
       "    </tr>\n",
       "  </thead>\n",
       "  <tbody>\n",
       "    <tr>\n",
       "      <th>abc</th>\n",
       "      <td>1</td>\n",
       "      <td>2</td>\n",
       "    </tr>\n",
       "    <tr>\n",
       "      <th>kia</th>\n",
       "      <td>2</td>\n",
       "      <td>3</td>\n",
       "    </tr>\n",
       "    <tr>\n",
       "      <th>kai</th>\n",
       "      <td>5</td>\n",
       "      <td>5</td>\n",
       "    </tr>\n",
       "    <tr>\n",
       "      <th>bob</th>\n",
       "      <td>3</td>\n",
       "      <td>1</td>\n",
       "    </tr>\n",
       "    <tr>\n",
       "      <th>jeff</th>\n",
       "      <td>4</td>\n",
       "      <td>2</td>\n",
       "    </tr>\n",
       "    <tr>\n",
       "      <th>car</th>\n",
       "      <td>1</td>\n",
       "      <td>4</td>\n",
       "    </tr>\n",
       "  </tbody>\n",
       "</table>\n",
       "</div>"
      ],
      "text/plain": [
       "      movie1  movie2\n",
       "abc        1       2\n",
       "kia        2       3\n",
       "kai        5       5\n",
       "bob        3       1\n",
       "jeff       4       2\n",
       "car        1       4"
      ]
     },
     "execution_count": 5,
     "metadata": {},
     "output_type": "execute_result"
    }
   ],
   "source": [
    "df_movie_rating = pd.DataFrame(\n",
    "    {\"movie1\" : [1, 2, 5, 3, 4, 1],\n",
    "     \"movie2\" : [2, 3, 5, 1, 2, 4]},\n",
    "     index = [\"abc\", \"kia\", \"kai\", \"bob\", \"jeff\", \"car\"]\n",
    "    )\n",
    "df_movie_rating"
   ]
  },
  {
   "cell_type": "code",
   "execution_count": 6,
   "id": "67538a34",
   "metadata": {},
   "outputs": [
    {
     "ename": "ValueError",
     "evalue": "The truth value of a Series is ambiguous. Use a.empty, a.bool(), a.item(), a.any() or a.all().",
     "output_type": "error",
     "traceback": [
      "\u001b[31m---------------------------------------------------------------------------\u001b[39m",
      "\u001b[31mValueError\u001b[39m                                Traceback (most recent call last)",
      "\u001b[32m~\\AppData\\Local\\Temp\\ipykernel_12868\\1581682087.py\u001b[39m in \u001b[36m?\u001b[39m\u001b[34m()\u001b[39m\n\u001b[32m     12\u001b[39m \n\u001b[32m     13\u001b[39m     \u001b[38;5;28;01mreturn\u001b[39;00m movies\n\u001b[32m     14\u001b[39m \n\u001b[32m     15\u001b[39m \n\u001b[32m---> \u001b[39m\u001b[32m16\u001b[39m transform(df_movie_rating)\n\u001b[32m     17\u001b[39m \n\u001b[32m     18\u001b[39m print(df_movie_rating)\n",
      "\u001b[32m~\\AppData\\Local\\Temp\\ipykernel_12868\\1581682087.py\u001b[39m in \u001b[36m?\u001b[39m\u001b[34m(movies)\u001b[39m\n\u001b[32m      2\u001b[39m     \u001b[38;5;28;01mfor\u001b[39;00m user \u001b[38;5;28;01min\u001b[39;00m movies.index:\n\u001b[32m      3\u001b[39m         \u001b[38;5;28;01mfor\u001b[39;00m col \u001b[38;5;28;01min\u001b[39;00m movies.columns:\n\u001b[32m      4\u001b[39m             \u001b[38;5;28;01mif\u001b[39;00m movies.loc[user, col].any() == \u001b[32m5\u001b[39m:\n\u001b[32m      5\u001b[39m                 movies.loc[user] = \u001b[33m\"A\"\u001b[39m\n\u001b[32m----> \u001b[39m\u001b[32m6\u001b[39m             \u001b[38;5;28;01melif\u001b[39;00m movies.loc[user] == \u001b[32m4\u001b[39m:\n\u001b[32m      7\u001b[39m                 movies.loc[user] = \u001b[33m\"B\"\u001b[39m\n\u001b[32m      8\u001b[39m             \u001b[38;5;28;01melif\u001b[39;00m movies.loc[user] == \u001b[32m3\u001b[39m:\n\u001b[32m      9\u001b[39m                 movies.loc[user] = \u001b[33m\"C\"\u001b[39m\n",
      "\u001b[32mc:\\Users\\Soham\\OneDrive\\Python Projects\\Data Science\\venv\\Lib\\site-packages\\pandas\\core\\generic.py\u001b[39m in \u001b[36m?\u001b[39m\u001b[34m(self)\u001b[39m\n\u001b[32m   1575\u001b[39m     @final\n\u001b[32m   1576\u001b[39m     \u001b[38;5;28;01mdef\u001b[39;00m __nonzero__(self) -> NoReturn:\n\u001b[32m-> \u001b[39m\u001b[32m1577\u001b[39m         raise ValueError(\n\u001b[32m   1578\u001b[39m             \u001b[33mf\"The truth value of a {type(self).__name__} is ambiguous. \"\u001b[39m\n\u001b[32m   1579\u001b[39m             \u001b[33m\"Use a.empty, a.bool(), a.item(), a.any() or a.all().\"\u001b[39m\n\u001b[32m   1580\u001b[39m         )\n",
      "\u001b[31mValueError\u001b[39m: The truth value of a Series is ambiguous. Use a.empty, a.bool(), a.item(), a.any() or a.all()."
     ]
    }
   ],
   "source": [
    "def transform(movies: pd.DataFrame) -> pd.DataFrame:\n",
    "    for user in movies.index:\n",
    "        for col in movies.columns:\n",
    "            if movies.loc[user, col].any() == 5:\n",
    "                movies.loc[user] = \"A\"\n",
    "            elif movies.loc[user] == 4:\n",
    "                movies.loc[user] = \"B\"\n",
    "            elif movies.loc[user] == 3:\n",
    "                movies.loc[user] = \"C\"\n",
    "            else:\n",
    "                movies.loc[user] = \"F\"\n",
    "\n",
    "    return movies\n",
    "\n",
    "\n",
    "transform(df_movie_rating)\n",
    "\n",
    "print(df_movie_rating)"
   ]
  },
  {
   "cell_type": "code",
   "execution_count": null,
   "id": "c3e9c8c5",
   "metadata": {},
   "outputs": [
    {
     "data": {
      "text/html": [
       "<div>\n",
       "<style scoped>\n",
       "    .dataframe tbody tr th:only-of-type {\n",
       "        vertical-align: middle;\n",
       "    }\n",
       "\n",
       "    .dataframe tbody tr th {\n",
       "        vertical-align: top;\n",
       "    }\n",
       "\n",
       "    .dataframe thead th {\n",
       "        text-align: right;\n",
       "    }\n",
       "</style>\n",
       "<table border=\"1\" class=\"dataframe\">\n",
       "  <thead>\n",
       "    <tr style=\"text-align: right;\">\n",
       "      <th></th>\n",
       "      <th>movie1</th>\n",
       "      <th>movie2</th>\n",
       "    </tr>\n",
       "  </thead>\n",
       "  <tbody>\n",
       "    <tr>\n",
       "      <th>abc</th>\n",
       "      <td>F</td>\n",
       "      <td>F</td>\n",
       "    </tr>\n",
       "    <tr>\n",
       "      <th>kia</th>\n",
       "      <td>F</td>\n",
       "      <td>C</td>\n",
       "    </tr>\n",
       "    <tr>\n",
       "      <th>kai</th>\n",
       "      <td>A</td>\n",
       "      <td>A</td>\n",
       "    </tr>\n",
       "    <tr>\n",
       "      <th>bob</th>\n",
       "      <td>C</td>\n",
       "      <td>F</td>\n",
       "    </tr>\n",
       "    <tr>\n",
       "      <th>jeff</th>\n",
       "      <td>B</td>\n",
       "      <td>F</td>\n",
       "    </tr>\n",
       "    <tr>\n",
       "      <th>car</th>\n",
       "      <td>F</td>\n",
       "      <td>B</td>\n",
       "    </tr>\n",
       "  </tbody>\n",
       "</table>\n",
       "</div>"
      ],
      "text/plain": [
       "     movie1 movie2\n",
       "abc       F      F\n",
       "kia       F      C\n",
       "kai       A      A\n",
       "bob       C      F\n",
       "jeff      B      F\n",
       "car       F      B"
      ]
     },
     "execution_count": 7,
     "metadata": {},
     "output_type": "execute_result"
    }
   ],
   "source": [
    "def change_rating(rating):\n",
    "\n",
    "    if rating == 5:\n",
    "        return \"A\"\n",
    "    elif rating == 4:\n",
    "        return \"B\"\n",
    "    elif rating == 3:\n",
    "        return \"C\"\n",
    "    else:\n",
    "        return \"F\"\n",
    "    \n",
    "\n",
    "df_movie_rating.map(change_rating)\n"
   ]
  },
  {
   "cell_type": "code",
   "execution_count": null,
   "id": "ae8242a1",
   "metadata": {},
   "outputs": [
    {
     "data": {
      "text/html": [
       "<div>\n",
       "<style scoped>\n",
       "    .dataframe tbody tr th:only-of-type {\n",
       "        vertical-align: middle;\n",
       "    }\n",
       "\n",
       "    .dataframe tbody tr th {\n",
       "        vertical-align: top;\n",
       "    }\n",
       "\n",
       "    .dataframe thead th {\n",
       "        text-align: right;\n",
       "    }\n",
       "</style>\n",
       "<table border=\"1\" class=\"dataframe\">\n",
       "  <thead>\n",
       "    <tr style=\"text-align: right;\">\n",
       "      <th></th>\n",
       "      <th>test1</th>\n",
       "      <th>test2</th>\n",
       "    </tr>\n",
       "  </thead>\n",
       "  <tbody>\n",
       "    <tr>\n",
       "      <th>count</th>\n",
       "      <td>6.000000</td>\n",
       "      <td>6.000000</td>\n",
       "    </tr>\n",
       "    <tr>\n",
       "      <th>mean</th>\n",
       "      <td>54.333333</td>\n",
       "      <td>62.166667</td>\n",
       "    </tr>\n",
       "    <tr>\n",
       "      <th>std</th>\n",
       "      <td>36.340978</td>\n",
       "      <td>29.559544</td>\n",
       "    </tr>\n",
       "    <tr>\n",
       "      <th>min</th>\n",
       "      <td>10.000000</td>\n",
       "      <td>20.000000</td>\n",
       "    </tr>\n",
       "    <tr>\n",
       "      <th>25%</th>\n",
       "      <td>32.500000</td>\n",
       "      <td>43.500000</td>\n",
       "    </tr>\n",
       "    <tr>\n",
       "      <th>50%</th>\n",
       "      <td>45.000000</td>\n",
       "      <td>66.500000</td>\n",
       "    </tr>\n",
       "    <tr>\n",
       "      <th>75%</th>\n",
       "      <td>84.500000</td>\n",
       "      <td>79.750000</td>\n",
       "    </tr>\n",
       "    <tr>\n",
       "      <th>max</th>\n",
       "      <td>100.000000</td>\n",
       "      <td>100.000000</td>\n",
       "    </tr>\n",
       "  </tbody>\n",
       "</table>\n",
       "</div>"
      ],
      "text/plain": [
       "            test1       test2\n",
       "count    6.000000    6.000000\n",
       "mean    54.333333   62.166667\n",
       "std     36.340978   29.559544\n",
       "min     10.000000   20.000000\n",
       "25%     32.500000   43.500000\n",
       "50%     45.000000   66.500000\n",
       "75%     84.500000   79.750000\n",
       "max    100.000000  100.000000"
      ]
     },
     "execution_count": 10,
     "metadata": {},
     "output_type": "execute_result"
    }
   ],
   "source": [
    "df_test_scores = pd.DataFrame(\n",
    "    {\"test1\" : [40, 96, 50, 100, 30, 10],\n",
    "     \"test2\" : [54, 79, 80, 100, 20, 40]},\n",
    "     index = [\"abc\", \"kia\", \"kai\", \"bob\", \"jeff\", \"car\"]\n",
    "    )\n",
    "df_test_scores\n",
    "\n",
    "#print(df_test_scores.max())\n",
    "#print(df_test_scores.min())\n",
    "#print(df_test_scores.mean())\n",
    "df_test_scores.describe()\n",
    "\n"
   ]
  },
  {
   "cell_type": "code",
   "execution_count": 11,
   "id": "c5f1158f",
   "metadata": {},
   "outputs": [
    {
     "name": "stdout",
     "output_type": "stream",
     "text": [
      "<class 'pandas.core.frame.DataFrame'>\n",
      "Index: 6 entries, abc to car\n",
      "Data columns (total 2 columns):\n",
      " #   Column  Non-Null Count  Dtype\n",
      "---  ------  --------------  -----\n",
      " 0   test1   6 non-null      int64\n",
      " 1   test2   6 non-null      int64\n",
      "dtypes: int64(2)\n",
      "memory usage: 144.0+ bytes\n"
     ]
    }
   ],
   "source": [
    "df_test_scores.info()"
   ]
  },
  {
   "cell_type": "code",
   "execution_count": 13,
   "id": "09676cb1",
   "metadata": {},
   "outputs": [
    {
     "data": {
      "text/html": [
       "<div>\n",
       "<style scoped>\n",
       "    .dataframe tbody tr th:only-of-type {\n",
       "        vertical-align: middle;\n",
       "    }\n",
       "\n",
       "    .dataframe tbody tr th {\n",
       "        vertical-align: top;\n",
       "    }\n",
       "\n",
       "    .dataframe thead th {\n",
       "        text-align: right;\n",
       "    }\n",
       "</style>\n",
       "<table border=\"1\" class=\"dataframe\">\n",
       "  <thead>\n",
       "    <tr style=\"text-align: right;\">\n",
       "      <th></th>\n",
       "      <th>first</th>\n",
       "      <th>last</th>\n",
       "    </tr>\n",
       "  </thead>\n",
       "  <tbody>\n",
       "    <tr>\n",
       "      <th>0</th>\n",
       "      <td>kai</td>\n",
       "      <td>Gellard</td>\n",
       "    </tr>\n",
       "    <tr>\n",
       "      <th>1</th>\n",
       "      <td>john</td>\n",
       "      <td>smith</td>\n",
       "    </tr>\n",
       "    <tr>\n",
       "      <th>2</th>\n",
       "      <td>bob</td>\n",
       "      <td>callum</td>\n",
       "    </tr>\n",
       "    <tr>\n",
       "      <th>3</th>\n",
       "      <td>jeff</td>\n",
       "      <td>colgate</td>\n",
       "    </tr>\n",
       "    <tr>\n",
       "      <th>4</th>\n",
       "      <td>kai</td>\n",
       "      <td>lewis</td>\n",
       "    </tr>\n",
       "    <tr>\n",
       "      <th>5</th>\n",
       "      <td>dave</td>\n",
       "      <td>smith</td>\n",
       "    </tr>\n",
       "  </tbody>\n",
       "</table>\n",
       "</div>"
      ],
      "text/plain": [
       "  first     last\n",
       "0   kai  Gellard\n",
       "1  john    smith\n",
       "2   bob   callum\n",
       "3  jeff  colgate\n",
       "4   kai    lewis\n",
       "5  dave    smith"
      ]
     },
     "execution_count": 13,
     "metadata": {},
     "output_type": "execute_result"
    }
   ],
   "source": [
    "df_name = pd.DataFrame(\n",
    "    {\"first\" : [\"kai\", \"john\", \"bob\", \"jeff\", \"kai\", \"dave\"],\n",
    "     \"last\" : [\"Gellard\", \"smith\", \"callum\", \"colgate\", \"lewis\", \"smith\"]})\n",
    "df_name\n"
   ]
  },
  {
   "cell_type": "code",
   "execution_count": 14,
   "id": "af714e72",
   "metadata": {},
   "outputs": [
    {
     "data": {
      "text/html": [
       "<div>\n",
       "<style scoped>\n",
       "    .dataframe tbody tr th:only-of-type {\n",
       "        vertical-align: middle;\n",
       "    }\n",
       "\n",
       "    .dataframe tbody tr th {\n",
       "        vertical-align: top;\n",
       "    }\n",
       "\n",
       "    .dataframe thead th {\n",
       "        text-align: right;\n",
       "    }\n",
       "</style>\n",
       "<table border=\"1\" class=\"dataframe\">\n",
       "  <thead>\n",
       "    <tr style=\"text-align: right;\">\n",
       "      <th></th>\n",
       "      <th>first</th>\n",
       "      <th>last</th>\n",
       "    </tr>\n",
       "  </thead>\n",
       "  <tbody>\n",
       "    <tr>\n",
       "      <th>0</th>\n",
       "      <td>kai</td>\n",
       "      <td>Gellard</td>\n",
       "    </tr>\n",
       "    <tr>\n",
       "      <th>4</th>\n",
       "      <td>kai</td>\n",
       "      <td>lewis</td>\n",
       "    </tr>\n",
       "  </tbody>\n",
       "</table>\n",
       "</div>"
      ],
      "text/plain": [
       "  first     last\n",
       "0   kai  Gellard\n",
       "4   kai    lewis"
      ]
     },
     "execution_count": 14,
     "metadata": {},
     "output_type": "execute_result"
    }
   ],
   "source": [
    "grouped_first = df_name.groupby(\"first\")\n",
    "grouped_first.count()\n",
    "group_data_first = grouped_first.get_group(\"kai\")\n",
    "group_data_first"
   ]
  },
  {
   "cell_type": "code",
   "execution_count": 15,
   "id": "77ec5183",
   "metadata": {},
   "outputs": [
    {
     "data": {
      "text/html": [
       "<div>\n",
       "<style scoped>\n",
       "    .dataframe tbody tr th:only-of-type {\n",
       "        vertical-align: middle;\n",
       "    }\n",
       "\n",
       "    .dataframe tbody tr th {\n",
       "        vertical-align: top;\n",
       "    }\n",
       "\n",
       "    .dataframe thead th {\n",
       "        text-align: right;\n",
       "    }\n",
       "</style>\n",
       "<table border=\"1\" class=\"dataframe\">\n",
       "  <thead>\n",
       "    <tr style=\"text-align: right;\">\n",
       "      <th></th>\n",
       "      <th>first</th>\n",
       "      <th>last</th>\n",
       "    </tr>\n",
       "  </thead>\n",
       "  <tbody>\n",
       "    <tr>\n",
       "      <th>1</th>\n",
       "      <td>john</td>\n",
       "      <td>smith</td>\n",
       "    </tr>\n",
       "    <tr>\n",
       "      <th>5</th>\n",
       "      <td>dave</td>\n",
       "      <td>smith</td>\n",
       "    </tr>\n",
       "  </tbody>\n",
       "</table>\n",
       "</div>"
      ],
      "text/plain": [
       "  first   last\n",
       "1  john  smith\n",
       "5  dave  smith"
      ]
     },
     "execution_count": 15,
     "metadata": {},
     "output_type": "execute_result"
    }
   ],
   "source": [
    "grouped_last = df_name.groupby(\"last\")\n",
    "grouped_last.count()\n",
    "group_data_last = grouped_last.get_group(\"smith\")\n",
    "group_data_last"
   ]
  },
  {
   "cell_type": "markdown",
   "id": "12b6dab3",
   "metadata": {},
   "source": [
    "# Pandas SQL Operations"
   ]
  },
  {
   "cell_type": "code",
   "execution_count": 16,
   "id": "52f9e787",
   "metadata": {},
   "outputs": [],
   "source": [
    "import sqlite3\n",
    "\n",
    "create_table = \"\"\"\n",
    "CREATE TABLE student_score\n",
    "(ID INTEGER, NAME VARCHAR (20), Math REAL, Science REAL);\n",
    "\"\"\""
   ]
  },
  {
   "cell_type": "code",
   "execution_count": 18,
   "id": "bba721d8",
   "metadata": {},
   "outputs": [],
   "source": [
    "#Executing sql query\n",
    "execute_sql = sqlite3.connect(':memory:')\n",
    "execute_sql.execute(create_table)\n",
    "execute_sql.commit()"
   ]
  },
  {
   "cell_type": "code",
   "execution_count": 19,
   "id": "c53b0f2d",
   "metadata": {},
   "outputs": [],
   "source": [
    "insertSQL = [(10, \"Kai\", 99.5, 98.9), \n",
    "             (12, \"John\", 44.6, 79.7),\n",
    "             (6, \"daisy\", 98.5, 32.4),\n",
    "             (11, \"Dave\", 56.1, 67.3),\n",
    "             (2, \"Maisey\", 56.2, 12.3)\n",
    "            ]\n",
    "insert_statement = \"insert into student_score values (?, ?, ?, ?)\"\n",
    "\n",
    "execute_sql.executemany(insert_statement, insertSQL)\n",
    "execute_sql.commit()\n",
    "\n"
   ]
  },
  {
   "cell_type": "code",
   "execution_count": 20,
   "id": "0cc52e8d",
   "metadata": {},
   "outputs": [
    {
     "data": {
      "text/plain": [
       "[(10, 'Kai', 99.5, 98.9),\n",
       " (12, 'John', 44.6, 79.7),\n",
       " (6, 'daisy', 98.5, 32.4),\n",
       " (11, 'Dave', 56.1, 67.3),\n",
       " (2, 'Maisey', 56.2, 12.3)]"
      ]
     },
     "execution_count": 20,
     "metadata": {},
     "output_type": "execute_result"
    }
   ],
   "source": [
    "sql_query = execute_sql.execute(\"SELECT * FROM student_score\")\n",
    "\n",
    "result_set = sql_query.fetchall()\n",
    "\n",
    "result_set"
   ]
  },
  {
   "cell_type": "code",
   "execution_count": 21,
   "id": "a694c399",
   "metadata": {},
   "outputs": [
    {
     "data": {
      "text/html": [
       "<div>\n",
       "<style scoped>\n",
       "    .dataframe tbody tr th:only-of-type {\n",
       "        vertical-align: middle;\n",
       "    }\n",
       "\n",
       "    .dataframe tbody tr th {\n",
       "        vertical-align: top;\n",
       "    }\n",
       "\n",
       "    .dataframe thead th {\n",
       "        text-align: right;\n",
       "    }\n",
       "</style>\n",
       "<table border=\"1\" class=\"dataframe\">\n",
       "  <thead>\n",
       "    <tr style=\"text-align: right;\">\n",
       "      <th></th>\n",
       "      <th>ID</th>\n",
       "      <th>NAME</th>\n",
       "      <th>Math</th>\n",
       "      <th>Science</th>\n",
       "    </tr>\n",
       "  </thead>\n",
       "  <tbody>\n",
       "    <tr>\n",
       "      <th>0</th>\n",
       "      <td>10</td>\n",
       "      <td>Kai</td>\n",
       "      <td>99.5</td>\n",
       "      <td>98.9</td>\n",
       "    </tr>\n",
       "    <tr>\n",
       "      <th>1</th>\n",
       "      <td>12</td>\n",
       "      <td>John</td>\n",
       "      <td>44.6</td>\n",
       "      <td>79.7</td>\n",
       "    </tr>\n",
       "    <tr>\n",
       "      <th>2</th>\n",
       "      <td>6</td>\n",
       "      <td>daisy</td>\n",
       "      <td>98.5</td>\n",
       "      <td>32.4</td>\n",
       "    </tr>\n",
       "    <tr>\n",
       "      <th>3</th>\n",
       "      <td>11</td>\n",
       "      <td>Dave</td>\n",
       "      <td>56.1</td>\n",
       "      <td>67.3</td>\n",
       "    </tr>\n",
       "    <tr>\n",
       "      <th>4</th>\n",
       "      <td>2</td>\n",
       "      <td>Maisey</td>\n",
       "      <td>56.2</td>\n",
       "      <td>12.3</td>\n",
       "    </tr>\n",
       "  </tbody>\n",
       "</table>\n",
       "</div>"
      ],
      "text/plain": [
       "   ID    NAME  Math  Science\n",
       "0  10     Kai  99.5     98.9\n",
       "1  12    John  44.6     79.7\n",
       "2   6   daisy  98.5     32.4\n",
       "3  11    Dave  56.1     67.3\n",
       "4   2  Maisey  56.2     12.3"
      ]
     },
     "execution_count": 21,
     "metadata": {},
     "output_type": "execute_result"
    }
   ],
   "source": [
    "# Converting sql to pandas dataframe\n",
    "\n",
    "df_student_records = pd.DataFrame(result_set, columns = [\"ID\", \"NAME\", \"Math\", \"Science\"])\n",
    "df_student_records"
   ]
  },
  {
   "cell_type": "code",
   "execution_count": null,
   "id": "9e03ed62",
   "metadata": {},
   "outputs": [
    {
     "name": "stdout",
     "output_type": "stream",
     "text": [
      "   Duration  Pulse  Maxpulse  Calories\n",
      "0        60    110       130       409\n",
      "1        60    117       145       479\n",
      "2        60    103       135       340\n",
      "3        45    109       175       282\n",
      "4        45    117       148       406\n",
      "5        60    102       127       300\n"
     ]
    }
   ],
   "source": [
    "\n",
    "\n",
    "data = {\n",
    "  \"Duration\":{\n",
    "    \"0\":60,\n",
    "    \"1\":60,\n",
    "    \"2\":60,\n",
    "    \"3\":45,\n",
    "    \"4\":45,\n",
    "    \"5\":60\n",
    "  },\n",
    "  \"Pulse\":{\n",
    "    \"0\":110,\n",
    "    \"1\":117,\n",
    "    \"2\":103,\n",
    "    \"3\":109,\n",
    "    \"4\":117,\n",
    "    \"5\":102\n",
    "  },\n",
    "  \"Maxpulse\":{\n",
    "    \"0\":130,\n",
    "    \"1\":145,\n",
    "    \"2\":135,\n",
    "    \"3\":175,\n",
    "    \"4\":148,\n",
    "    \"5\":127\n",
    "  },\n",
    "  \"Calories\":{\n",
    "    \"0\":409,\n",
    "    \"1\":479,\n",
    "    \"2\":340,\n",
    "    \"3\":282,\n",
    "    \"4\":406,\n",
    "    \"5\":300\n",
    "  }\n",
    "}\n",
    "\n",
    "json_data = pd.DataFrame(data)\n",
    "print(json_data)"
   ]
  },
  {
   "cell_type": "markdown",
   "id": "55777a67",
   "metadata": {},
   "source": []
  }
 ],
 "metadata": {
  "kernelspec": {
   "display_name": "venv",
   "language": "python",
   "name": "python3"
  },
  "language_info": {
   "codemirror_mode": {
    "name": "ipython",
    "version": 3
   },
   "file_extension": ".py",
   "mimetype": "text/x-python",
   "name": "python",
   "nbconvert_exporter": "python",
   "pygments_lexer": "ipython3",
   "version": "3.11.9"
  }
 },
 "nbformat": 4,
 "nbformat_minor": 5
}
