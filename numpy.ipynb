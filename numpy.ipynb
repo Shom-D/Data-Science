{
 "cells": [
  {
   "cell_type": "code",
   "execution_count": null,
   "id": "de1e45b8",
   "metadata": {},
   "outputs": [
    {
     "name": "stdout",
     "output_type": "stream",
     "text": [
      "1.26.4\n"
     ]
    }
   ],
   "source": [
    "import numpy as np\n",
    "import math\n",
    "print(np.__version__)"
   ]
  },
  {
   "cell_type": "code",
   "execution_count": null,
   "id": "6d6f9c24",
   "metadata": {},
   "outputs": [
    {
     "name": "stdout",
     "output_type": "stream",
     "text": [
      "['1' '1.2' 'str'] <class 'numpy.ndarray'> <U32 3\n"
     ]
    }
   ],
   "source": [
    "arr = np.array([1,1.2,\"str\"])\n",
    "print(arr, type(arr), arr.dtype, len(arr))"
   ]
  },
  {
   "cell_type": "code",
   "execution_count": null,
   "id": "7fec5352",
   "metadata": {},
   "outputs": [
    {
     "name": "stdout",
     "output_type": "stream",
     "text": [
      "r\n",
      "tr\n"
     ]
    }
   ],
   "source": [
    "print(arr[2][2])\n",
    "print(arr[2][1:])"
   ]
  },
  {
   "cell_type": "code",
   "execution_count": null,
   "id": "770c4ce2",
   "metadata": {},
   "outputs": [
    {
     "name": "stdout",
     "output_type": "stream",
     "text": [
      "(3,) 1 1\n"
     ]
    }
   ],
   "source": [
    "print(arr.shape, arr.ndim, len(arr.shape))"
   ]
  },
  {
   "cell_type": "code",
   "execution_count": null,
   "id": "62d66dfb",
   "metadata": {},
   "outputs": [
    {
     "name": "stdout",
     "output_type": "stream",
     "text": [
      "[0.33333333 1.         0.3        4.        ] <class 'numpy.ndarray'> 1 4\n"
     ]
    }
   ],
   "source": [
    "distance = np.array([1,6,3,8])\n",
    "time = np.array([3,6,10,2])\n",
    "\n",
    "speed = distance/time\n",
    "print(speed, type(speed), speed.ndim, speed.size)"
   ]
  },
  {
   "cell_type": "code",
   "execution_count": null,
   "id": "05bce76f",
   "metadata": {},
   "outputs": [
    {
     "name": "stdout",
     "output_type": "stream",
     "text": [
      "4 1 4\n"
     ]
    }
   ],
   "source": [
    "arr2 = np.array([\"NYC\", \"LA\", \"MIAMI\", \"HOUSTON\"])\n",
    "print(arr2.size, arr2.ndim, len(arr2))\n"
   ]
  },
  {
   "cell_type": "code",
   "execution_count": null,
   "id": "c36752d8",
   "metadata": {},
   "outputs": [
    {
     "name": "stdout",
     "output_type": "stream",
     "text": [
      "8 2 2 (2, 4) \n",
      " [['NYC' 'LA' 'MIAMI' 'HOUSTON']\n",
      " ['NY' 'CA' 'FL' 'TX']]\n"
     ]
    }
   ],
   "source": [
    "arr3 = np.array([[\"NYC\", \"LA\", \"MIAMI\", \"HOUSTON\"], \n",
    "                 [\"NY\", \"CA\", \"FL\", \"TX\"]], dtype = \"<U20\")\n",
    "print(arr3.size, arr3.ndim, len(arr3), arr3.shape, \"\\n\", arr3)"
   ]
  },
  {
   "cell_type": "code",
   "execution_count": null,
   "id": "d22f1be8",
   "metadata": {},
   "outputs": [
    {
     "name": "stdout",
     "output_type": "stream",
     "text": [
      "MIAMI\n",
      "ST\n"
     ]
    }
   ],
   "source": [
    "print(arr3[0,2])\n",
    "print(arr3[0, 3][3:5])"
   ]
  },
  {
   "cell_type": "code",
   "execution_count": null,
   "id": "574b8201",
   "metadata": {},
   "outputs": [
    {
     "name": "stdout",
     "output_type": "stream",
     "text": [
      "True\n"
     ]
    }
   ],
   "source": [
    "print(\"FL\" in arr3)"
   ]
  },
  {
   "cell_type": "code",
   "execution_count": null,
   "id": "df6a5d3e",
   "metadata": {},
   "outputs": [
    {
     "name": "stdout",
     "output_type": "stream",
     "text": [
      "[['NYC' 'LA' 'Hello World' 'HOUSTON']\n",
      " ['NY' 'CA' 'FL' 'TX']] \n",
      " [['NYC' 'LA' 'Hello World' 'HOUSTON']\n",
      " ['NY' 'CA' 'FL' 'TX']]\n"
     ]
    }
   ],
   "source": [
    "arr4 = arr3.view()\n",
    "#print(arr4)\n",
    "arr4[0,2] = \"Hello World\"\n",
    "print(arr4, \"\\n\", arr3)"
   ]
  },
  {
   "cell_type": "code",
   "execution_count": null,
   "id": "f3113254",
   "metadata": {},
   "outputs": [
    {
     "name": "stdout",
     "output_type": "stream",
     "text": [
      "[['NYC' 'LA' 'Hello World' 'HOUSTON']\n",
      " ['NY' 'CA' 'FL' 'TX']] \n",
      " [['NYC' 'LA' 'Hello World' 'HOUSTON']\n",
      " ['NY' 'CA' 'FL' 'TX']]\n"
     ]
    }
   ],
   "source": [
    "arr5 = arr3.copy()\n",
    "arr5[0,2] = \"Hello World\"\n",
    "print(arr5, \"\\n\", arr3)"
   ]
  },
  {
   "cell_type": "code",
   "execution_count": null,
   "id": "1b815822",
   "metadata": {},
   "outputs": [
    {
     "name": "stdout",
     "output_type": "stream",
     "text": [
      "[  1   8  27  64 125]\n"
     ]
    }
   ],
   "source": [
    "arr6 = np.array([1,2,3,4,5])\n",
    "print(np.power(arr6, 3))"
   ]
  },
  {
   "cell_type": "code",
   "execution_count": null,
   "id": "bf0688bd",
   "metadata": {},
   "outputs": [
    {
     "name": "stdout",
     "output_type": "stream",
     "text": [
      "[ 0  2  5  4  7  6  6  8 16 14 11 23] (12,) 1\n",
      "\n",
      " [[ 0  2  5  4]\n",
      " [ 7  6  6  8]\n",
      " [16 14 11 23]] (3, 4)\n",
      "14 12\n",
      "\n",
      " [[[ 0  2]\n",
      "  [ 5  4]]\n",
      "\n",
      " [[ 7  6]\n",
      "  [ 6  8]]\n",
      "\n",
      " [[16 14]\n",
      "  [11 23]]]\n",
      "[[[ 0  7 16]\n",
      "  [ 5  6 11]]\n",
      "\n",
      " [[ 2  6 14]\n",
      "  [ 4  8 23]]] (2, 2, 3)\n"
     ]
    }
   ],
   "source": [
    "arr7 = np.array([[0,2,5,4,7,6], [6,8,16,14,11,23]])\n",
    "\n",
    "#flattening\n",
    "flat = arr7.ravel()\n",
    "print(flat, flat.shape, flat.ndim)\n",
    "\n",
    "arr8 = arr7.reshape((3,4))\n",
    "print(\"\\n\",arr8, arr8.shape)\n",
    "print(arr8[2,1], arr8.size)\n",
    "\n",
    "arr9 = arr7.reshape((3,2,2))\n",
    "print(\"\\n\",arr9)\n",
    "print(arr9.T, arr9.T.shape)\n"
   ]
  },
  {
   "cell_type": "code",
   "execution_count": null,
   "id": "1292da63",
   "metadata": {},
   "outputs": [
    {
     "name": "stdout",
     "output_type": "stream",
     "text": [
      "[[ 6  8]\n",
      " [10 12]] \n",
      "\n",
      " [[19 22]\n",
      " [43 50]]\n",
      "\n",
      " [[ 5 12]\n",
      " [21 32]]\n"
     ]
    }
   ],
   "source": [
    "arr10 = np.array([[1,2], \n",
    "                  [3,4]])\n",
    "\n",
    "arr11 = np.array([[5,6], \n",
    "                  [7,8]])\n",
    "\n",
    "print(arr10+arr11,\"\\n\\n\", arr10 @ arr11)\n",
    "print(\"\\n\", arr10 * arr11)"
   ]
  },
  {
   "cell_type": "code",
   "execution_count": null,
   "id": "e323f7df",
   "metadata": {},
   "outputs": [
    {
     "name": "stdout",
     "output_type": "stream",
     "text": [
      "[0 2 5] [4 7 6] [ 6  8 16] [14 11 23]\n"
     ]
    }
   ],
   "source": [
    "arr12, arr13, arr14, arr15 = np.split(flat, 4)\n",
    "\n",
    "print(arr12, arr13, arr14, arr15)"
   ]
  },
  {
   "cell_type": "code",
   "execution_count": null,
   "id": "296f50f6",
   "metadata": {},
   "outputs": [
    {
     "name": "stdout",
     "output_type": "stream",
     "text": [
      "6\n"
     ]
    }
   ],
   "source": [
    "arr16 = np.array([1,2, 0, 3, -1, 4,5,6,70])\n",
    "even = np.where(arr16 % 2 == 0)\n",
    "\n",
    "\n",
    "\n",
    "#print(arr16[even[0]:even[-1]])\n",
    "\n",
    "sort = np.searchsorted(arr16, 5)\n",
    "print(sort)\n"
   ]
  },
  {
   "cell_type": "code",
   "execution_count": null,
   "id": "ffb0dac2",
   "metadata": {},
   "outputs": [
    {
     "name": "stdout",
     "output_type": "stream",
     "text": [
      "[-1, 0, 1, 2, 3, 4, 5, 6, 70]\n",
      "['California', 'Miami', 'NYC']\n",
      "[False, False, True, True, True]\n",
      "[[1 0 2]\n",
      " [2 1 0]]\n"
     ]
    }
   ],
   "source": [
    "arr16_sorted = sorted(arr16)\n",
    "print(arr16_sorted)\n",
    "\n",
    "arr17 = sorted(np.array([\"Miami\", \"NYC\", \"California\"]))\n",
    "print(sorted(arr17))\n",
    "\n",
    "arr18 = np.array([False, True, False, True, True])\n",
    "print(sorted(arr18))\n",
    "\n",
    "arr19 = np.array([[10, 7, 14], [19, 4, 2]])\n",
    "print(np.argsort(arr19))"
   ]
  },
  {
   "cell_type": "code",
   "execution_count": null,
   "id": "4f3d37d9",
   "metadata": {},
   "outputs": [
    {
     "name": "stdout",
     "output_type": "stream",
     "text": [
      "[263 298 335]\n",
      "[15.  6.]\n",
      "[15.13  5.82]\n",
      "[15.  5.] [16.  6.]\n"
     ]
    }
   ],
   "source": [
    "def func1(x, y):\n",
    "    return x*y + x + y\n",
    "\n",
    "func1 = np.frompyfunc(func1, 2,1)\n",
    "\n",
    "print(func1([11,12,13], [21,22,23]))\n",
    "\n",
    "a  = 15.126345, 5.8234556\n",
    "print(np.around(a))\n",
    "rnd = np.around(a, 2)\n",
    "print(rnd)\n",
    "\n",
    "print(np.floor(a), np.ceil(a))\n",
    "\n"
   ]
  },
  {
   "cell_type": "code",
   "execution_count": null,
   "id": "f33ca79a",
   "metadata": {},
   "outputs": [
    {
     "name": "stdout",
     "output_type": "stream",
     "text": [
      "[2.61799388 6.28318531 1.57079633 0.78539816] [2.61799388 6.28318531 1.57079633 0.78539816]\n"
     ]
    }
   ],
   "source": [
    "degrees = np.array([150, 360, 90, 45])\n",
    "\n",
    "radians = np.deg2rad(degrees)\n",
    "\n",
    "print(radians, np.pi/180*degrees)"
   ]
  },
  {
   "cell_type": "code",
   "execution_count": null,
   "id": "afa82414",
   "metadata": {},
   "outputs": [
    {
     "data": {
      "text/plain": [
       "array([ 450, 1080,  270,  135])"
      ]
     },
     "execution_count": 87,
     "metadata": {},
     "output_type": "execute_result"
    }
   ],
   "source": [
    "np.lcm(degrees, degrees * 3)"
   ]
  }
 ],
 "metadata": {
  "kernelspec": {
   "display_name": "Python 3",
   "language": "python",
   "name": "python3"
  },
  "language_info": {
   "codemirror_mode": {
    "name": "ipython",
    "version": 3
   },
   "file_extension": ".py",
   "mimetype": "text/x-python",
   "name": "python",
   "nbconvert_exporter": "python",
   "pygments_lexer": "ipython3",
   "version": "3.11.9"
  }
 },
 "nbformat": 4,
 "nbformat_minor": 5
}
